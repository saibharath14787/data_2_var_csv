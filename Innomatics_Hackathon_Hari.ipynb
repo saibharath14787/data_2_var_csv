{
 "cells": [
  {
   "cell_type": "code",
   "execution_count": 4,
   "metadata": {},
   "outputs": [],
   "source": [
    "import pandas as pd\n",
    "import numpy as np\n",
    "import matplotlib.pyplot as plt\n",
    "import seaborn as sns\n",
    "from sklearn.model_selection import train_test_split,cross_val_score\n",
    "from sklearn.preprocessing import MinMaxScaler\n",
    "from sklearn.linear_model import LogisticRegression\n",
    "from sklearn.neighbors import KNeighborsClassifier\n",
    "from sklearn.tree import DecisionTreeClassifier\n",
    "from sklearn.svm import SVC\n",
    "from sklearn.metrics import classification_report,confusion_matrix,cohen_kappa_score\n",
    "from sklearn.metrics import  auc,roc_auc_score,roc_curve\n",
    "import warnings\n",
    "warnings.filterwarnings('ignore')"
   ]
  },
  {
   "cell_type": "code",
   "execution_count": 5,
   "metadata": {},
   "outputs": [],
   "source": [
    "df1 = pd.read_csv(\"data_2_var_csv\")"
   ]
  },
  {
   "cell_type": "code",
   "execution_count": 6,
   "metadata": {},
   "outputs": [
    {
     "data": {
      "text/html": [
       "<div>\n",
       "<style scoped>\n",
       "    .dataframe tbody tr th:only-of-type {\n",
       "        vertical-align: middle;\n",
       "    }\n",
       "\n",
       "    .dataframe tbody tr th {\n",
       "        vertical-align: top;\n",
       "    }\n",
       "\n",
       "    .dataframe thead th {\n",
       "        text-align: right;\n",
       "    }\n",
       "</style>\n",
       "<table border=\"1\" class=\"dataframe\">\n",
       "  <thead>\n",
       "    <tr style=\"text-align: right;\">\n",
       "      <th></th>\n",
       "      <th>x1</th>\n",
       "      <th>x2</th>\n",
       "      <th>y</th>\n",
       "    </tr>\n",
       "  </thead>\n",
       "  <tbody>\n",
       "    <tr>\n",
       "      <th>count</th>\n",
       "      <td>2222.000000</td>\n",
       "      <td>2.224000e+03</td>\n",
       "      <td>2227.000000</td>\n",
       "    </tr>\n",
       "    <tr>\n",
       "      <th>mean</th>\n",
       "      <td>-4.818766</td>\n",
       "      <td>8.947626e+04</td>\n",
       "      <td>0.442299</td>\n",
       "    </tr>\n",
       "    <tr>\n",
       "      <th>std</th>\n",
       "      <td>74.939909</td>\n",
       "      <td>2.983323e+06</td>\n",
       "      <td>0.496771</td>\n",
       "    </tr>\n",
       "    <tr>\n",
       "      <th>min</th>\n",
       "      <td>-134.369160</td>\n",
       "      <td>-1.348761e+02</td>\n",
       "      <td>0.000000</td>\n",
       "    </tr>\n",
       "    <tr>\n",
       "      <th>25%</th>\n",
       "      <td>-71.757030</td>\n",
       "      <td>-8.012983e+01</td>\n",
       "      <td>0.000000</td>\n",
       "    </tr>\n",
       "    <tr>\n",
       "      <th>50%</th>\n",
       "      <td>-9.836555</td>\n",
       "      <td>-1.046151e+00</td>\n",
       "      <td>0.000000</td>\n",
       "    </tr>\n",
       "    <tr>\n",
       "      <th>75%</th>\n",
       "      <td>59.813962</td>\n",
       "      <td>6.389086e+01</td>\n",
       "      <td>1.000000</td>\n",
       "    </tr>\n",
       "    <tr>\n",
       "      <th>max</th>\n",
       "      <td>134.508687</td>\n",
       "      <td>1.000000e+08</td>\n",
       "      <td>1.000000</td>\n",
       "    </tr>\n",
       "  </tbody>\n",
       "</table>\n",
       "</div>"
      ],
      "text/plain": [
       "                x1            x2            y\n",
       "count  2222.000000  2.224000e+03  2227.000000\n",
       "mean     -4.818766  8.947626e+04     0.442299\n",
       "std      74.939909  2.983323e+06     0.496771\n",
       "min    -134.369160 -1.348761e+02     0.000000\n",
       "25%     -71.757030 -8.012983e+01     0.000000\n",
       "50%      -9.836555 -1.046151e+00     0.000000\n",
       "75%      59.813962  6.389086e+01     1.000000\n",
       "max     134.508687  1.000000e+08     1.000000"
      ]
     },
     "execution_count": 6,
     "metadata": {},
     "output_type": "execute_result"
    }
   ],
   "source": [
    "df1.describe()"
   ]
  },
  {
   "cell_type": "markdown",
   "metadata": {},
   "source": [
    "Spliting the dataset into x,y"
   ]
  },
  {
   "cell_type": "code",
   "execution_count": 7,
   "metadata": {},
   "outputs": [],
   "source": [
    "x1 = df1.iloc[:,:-1]\n",
    "y1= df1.iloc[:,-1]"
   ]
  },
  {
   "cell_type": "markdown",
   "metadata": {},
   "source": [
    "# EXPLORATARY DATA ANALYSIS:"
   ]
  },
  {
   "cell_type": "markdown",
   "metadata": {},
   "source": [
    "Checking missing values."
   ]
  },
  {
   "cell_type": "code",
   "execution_count": 8,
   "metadata": {},
   "outputs": [
    {
     "data": {
      "text/plain": [
       "x1    5\n",
       "x2    3\n",
       "dtype: int64"
      ]
     },
     "execution_count": 8,
     "metadata": {},
     "output_type": "execute_result"
    }
   ],
   "source": [
    "x1.isnull().sum()"
   ]
  },
  {
   "cell_type": "code",
   "execution_count": 9,
   "metadata": {},
   "outputs": [
    {
     "data": {
      "text/plain": [
       "0"
      ]
     },
     "execution_count": 9,
     "metadata": {},
     "output_type": "execute_result"
    }
   ],
   "source": [
    "y1.isnull().sum()"
   ]
  },
  {
   "cell_type": "code",
   "execution_count": 10,
   "metadata": {},
   "outputs": [
    {
     "data": {
      "text/html": [
       "<div>\n",
       "<style scoped>\n",
       "    .dataframe tbody tr th:only-of-type {\n",
       "        vertical-align: middle;\n",
       "    }\n",
       "\n",
       "    .dataframe tbody tr th {\n",
       "        vertical-align: top;\n",
       "    }\n",
       "\n",
       "    .dataframe thead th {\n",
       "        text-align: right;\n",
       "    }\n",
       "</style>\n",
       "<table border=\"1\" class=\"dataframe\">\n",
       "  <thead>\n",
       "    <tr style=\"text-align: right;\">\n",
       "      <th></th>\n",
       "      <th>x1</th>\n",
       "      <th>x2</th>\n",
       "    </tr>\n",
       "  </thead>\n",
       "  <tbody>\n",
       "    <tr>\n",
       "      <th>0</th>\n",
       "      <td>-119.366669</td>\n",
       "      <td>1.150000e+02</td>\n",
       "    </tr>\n",
       "    <tr>\n",
       "      <th>1</th>\n",
       "      <td>-101.108045</td>\n",
       "      <td>9.777716e+01</td>\n",
       "    </tr>\n",
       "    <tr>\n",
       "      <th>2</th>\n",
       "      <td>-130.278658</td>\n",
       "      <td>1.067677e+02</td>\n",
       "    </tr>\n",
       "    <tr>\n",
       "      <th>3</th>\n",
       "      <td>-114.703415</td>\n",
       "      <td>1.011955e+02</td>\n",
       "    </tr>\n",
       "    <tr>\n",
       "      <th>4</th>\n",
       "      <td>-119.366669</td>\n",
       "      <td>1.150000e+02</td>\n",
       "    </tr>\n",
       "    <tr>\n",
       "      <th>...</th>\n",
       "      <td>...</td>\n",
       "      <td>...</td>\n",
       "    </tr>\n",
       "    <tr>\n",
       "      <th>2222</th>\n",
       "      <td>98.714112</td>\n",
       "      <td>8.964312e+01</td>\n",
       "    </tr>\n",
       "    <tr>\n",
       "      <th>2223</th>\n",
       "      <td>96.633331</td>\n",
       "      <td>9.100000e+01</td>\n",
       "    </tr>\n",
       "    <tr>\n",
       "      <th>2224</th>\n",
       "      <td>85.673940</td>\n",
       "      <td>1.038393e+02</td>\n",
       "    </tr>\n",
       "    <tr>\n",
       "      <th>2225</th>\n",
       "      <td>78.958862</td>\n",
       "      <td>7.860537e+01</td>\n",
       "    </tr>\n",
       "    <tr>\n",
       "      <th>2226</th>\n",
       "      <td>109.624009</td>\n",
       "      <td>1.000000e+08</td>\n",
       "    </tr>\n",
       "  </tbody>\n",
       "</table>\n",
       "<p>2227 rows × 2 columns</p>\n",
       "</div>"
      ],
      "text/plain": [
       "              x1            x2\n",
       "0    -119.366669  1.150000e+02\n",
       "1    -101.108045  9.777716e+01\n",
       "2    -130.278658  1.067677e+02\n",
       "3    -114.703415  1.011955e+02\n",
       "4    -119.366669  1.150000e+02\n",
       "...          ...           ...\n",
       "2222   98.714112  8.964312e+01\n",
       "2223   96.633331  9.100000e+01\n",
       "2224   85.673940  1.038393e+02\n",
       "2225   78.958862  7.860537e+01\n",
       "2226  109.624009  1.000000e+08\n",
       "\n",
       "[2227 rows x 2 columns]"
      ]
     },
     "execution_count": 10,
     "metadata": {},
     "output_type": "execute_result"
    }
   ],
   "source": [
    "x1"
   ]
  },
  {
   "cell_type": "code",
   "execution_count": 11,
   "metadata": {},
   "outputs": [
    {
     "data": {
      "text/plain": [
       "0       1\n",
       "1       1\n",
       "2       1\n",
       "3       1\n",
       "4       1\n",
       "       ..\n",
       "2222    0\n",
       "2223    0\n",
       "2224    0\n",
       "2225    0\n",
       "2226    0\n",
       "Name: y, Length: 2227, dtype: int64"
      ]
     },
     "execution_count": 11,
     "metadata": {},
     "output_type": "execute_result"
    }
   ],
   "source": [
    "y1"
   ]
  },
  {
   "cell_type": "markdown",
   "metadata": {},
   "source": [
    "Checking correlation for features."
   ]
  },
  {
   "cell_type": "code",
   "execution_count": 12,
   "metadata": {},
   "outputs": [
    {
     "data": {
      "text/html": [
       "<div>\n",
       "<style scoped>\n",
       "    .dataframe tbody tr th:only-of-type {\n",
       "        vertical-align: middle;\n",
       "    }\n",
       "\n",
       "    .dataframe tbody tr th {\n",
       "        vertical-align: top;\n",
       "    }\n",
       "\n",
       "    .dataframe thead th {\n",
       "        text-align: right;\n",
       "    }\n",
       "</style>\n",
       "<table border=\"1\" class=\"dataframe\">\n",
       "  <thead>\n",
       "    <tr style=\"text-align: right;\">\n",
       "      <th></th>\n",
       "      <th>x1</th>\n",
       "      <th>x2</th>\n",
       "    </tr>\n",
       "  </thead>\n",
       "  <tbody>\n",
       "    <tr>\n",
       "      <th>x1</th>\n",
       "      <td>1.000000</td>\n",
       "      <td>0.037288</td>\n",
       "    </tr>\n",
       "    <tr>\n",
       "      <th>x2</th>\n",
       "      <td>0.037288</td>\n",
       "      <td>1.000000</td>\n",
       "    </tr>\n",
       "  </tbody>\n",
       "</table>\n",
       "</div>"
      ],
      "text/plain": [
       "          x1        x2\n",
       "x1  1.000000  0.037288\n",
       "x2  0.037288  1.000000"
      ]
     },
     "execution_count": 12,
     "metadata": {},
     "output_type": "execute_result"
    }
   ],
   "source": [
    "x1.corr()"
   ]
  },
  {
   "cell_type": "code",
   "execution_count": 13,
   "metadata": {},
   "outputs": [],
   "source": [
    "corr = x1.corr()"
   ]
  },
  {
   "cell_type": "code",
   "execution_count": 14,
   "metadata": {},
   "outputs": [
    {
     "data": {
      "text/html": [
       "<div>\n",
       "<style scoped>\n",
       "    .dataframe tbody tr th:only-of-type {\n",
       "        vertical-align: middle;\n",
       "    }\n",
       "\n",
       "    .dataframe tbody tr th {\n",
       "        vertical-align: top;\n",
       "    }\n",
       "\n",
       "    .dataframe thead th {\n",
       "        text-align: right;\n",
       "    }\n",
       "</style>\n",
       "<table border=\"1\" class=\"dataframe\">\n",
       "  <thead>\n",
       "    <tr style=\"text-align: right;\">\n",
       "      <th></th>\n",
       "      <th>x1</th>\n",
       "      <th>x2</th>\n",
       "    </tr>\n",
       "  </thead>\n",
       "  <tbody>\n",
       "    <tr>\n",
       "      <th>x1</th>\n",
       "      <td>1.000000</td>\n",
       "      <td>0.037288</td>\n",
       "    </tr>\n",
       "    <tr>\n",
       "      <th>x2</th>\n",
       "      <td>0.037288</td>\n",
       "      <td>1.000000</td>\n",
       "    </tr>\n",
       "  </tbody>\n",
       "</table>\n",
       "</div>"
      ],
      "text/plain": [
       "          x1        x2\n",
       "x1  1.000000  0.037288\n",
       "x2  0.037288  1.000000"
      ]
     },
     "execution_count": 14,
     "metadata": {},
     "output_type": "execute_result"
    }
   ],
   "source": [
    "corr"
   ]
  },
  {
   "cell_type": "code",
   "execution_count": 15,
   "metadata": {},
   "outputs": [
    {
     "data": {
      "text/plain": [
       "<AxesSubplot:>"
      ]
     },
     "execution_count": 15,
     "metadata": {},
     "output_type": "execute_result"
    },
    {
     "data": {
      "image/png": "[encoded data removed]",
      "text/plain": [
       "<Figure size 432x288 with 2 Axes>"
      ]
     },
     "metadata": {
      "needs_background": "light"
     },
     "output_type": "display_data"
    }
   ],
   "source": [
    "sns.heatmap(x1.corr(),annot=True)"
   ]
  },
  {
   "cell_type": "markdown",
   "metadata": {},
   "source": [
    "Outlier detecton and treatment"
   ]
  },
  {
   "cell_type": "code",
   "execution_count": 16,
   "metadata": {},
   "outputs": [
    {
     "data": {
      "text/plain": [
       "<AxesSubplot:xlabel='x1'>"
      ]
     },
     "execution_count": 16,
     "metadata": {},
     "output_type": "execute_result"
    },
    {
     "data": {
      "image/png": "[encoded data removed]",
      "text/plain": [
       "<Figure size 432x288 with 1 Axes>"
      ]
     },
     "metadata": {
      "needs_background": "light"
     },
     "output_type": "display_data"
    }
   ],
   "source": [
    "sns.boxplot(x1['x1'])"
   ]
  },
  {
   "cell_type": "code",
   "execution_count": 17,
   "metadata": {},
   "outputs": [
    {
     "data": {
      "text/plain": [
       "<AxesSubplot:xlabel='x2'>"
      ]
     },
     "execution_count": 17,
     "metadata": {},
     "output_type": "execute_result"
    },
    {
     "data": {
      "image/png": "[encoded data removed]",
      "text/plain": [
       "<Figure size 432x288 with 1 Axes>"
      ]
     },
     "metadata": {
      "needs_background": "light"
     },
     "output_type": "display_data"
    }
   ],
   "source": [
    "sns.boxplot(x1['x2'])"
   ]
  },
  {
   "cell_type": "code",
   "execution_count": 18,
   "metadata": {},
   "outputs": [],
   "source": [
    "def outlier(x1):\n",
    "    a=[]\n",
    "    empty=[]\n",
    "    ind=[]\n",
    "    q1=x1.quantile(0.25)\n",
    "    q3=x1.quantile(0.75)\n",
    "    iqr=q3-q1\n",
    "    inner_fence=q1-(1.5*iqr)\n",
    "    outer_fence=q3+(1.5*iqr)\n",
    "    for index,i in enumerate(x1):\n",
    "        if (i<inner_fence or i>outer_fence):\n",
    "            a.append(i)\n",
    "            ind.append(index)\n",
    "            \n",
    "    if a==empty:\n",
    "        print(\"There is no Outlier\")\n",
    "    else:\n",
    "        print(\"The outliers are : \\n\",a)\n",
    "        print(\"The number of outliers : \",len(a),\",index= \",ind,\"\\n\")"
   ]
  },
  {
   "cell_type": "code",
   "execution_count": 19,
   "metadata": {},
   "outputs": [
    {
     "name": "stdout",
     "output_type": "stream",
     "text": [
      "There is no Outlier\n"
     ]
    }
   ],
   "source": [
    "outlier(x1['x1'])"
   ]
  },
  {
   "cell_type": "code",
   "execution_count": 20,
   "metadata": {},
   "outputs": [
    {
     "name": "stdout",
     "output_type": "stream",
     "text": [
      "The outliers are : \n",
      " [99009998.0, 99999999.0]\n",
      "The number of outliers :  2 ,index=  [1541, 2226] \n",
      "\n"
     ]
    }
   ],
   "source": [
    "outlier(x1['x2'])"
   ]
  },
  {
   "cell_type": "code",
   "execution_count": 21,
   "metadata": {},
   "outputs": [],
   "source": [
    "df_x=x1.drop(index= [1541, 2226])"
   ]
  },
  {
   "cell_type": "code",
   "execution_count": 22,
   "metadata": {},
   "outputs": [
    {
     "name": "stdout",
     "output_type": "stream",
     "text": [
      "There is no Outlier\n"
     ]
    }
   ],
   "source": [
    "outlier(df_x['x1'])"
   ]
  },
  {
   "cell_type": "code",
   "execution_count": 23,
   "metadata": {},
   "outputs": [
    {
     "name": "stdout",
     "output_type": "stream",
     "text": [
      "There is no Outlier\n"
     ]
    }
   ],
   "source": [
    "outlier(df_x['x2'])"
   ]
  },
  {
   "cell_type": "markdown",
   "metadata": {},
   "source": [
    "Visualising features using scatter plot"
   ]
  },
  {
   "cell_type": "code",
   "execution_count": 24,
   "metadata": {},
   "outputs": [
    {
     "data": {
      "text/plain": [
       "<AxesSubplot:xlabel='x1', ylabel='x2'>"
      ]
     },
     "execution_count": 24,
     "metadata": {},
     "output_type": "execute_result"
    },
    {
     "data": {
      "image/png": "[encoded data removed]",
      "text/plain": [
       "<Figure size 432x288 with 1 Axes>"
      ]
     },
     "metadata": {
      "needs_background": "light"
     },
     "output_type": "display_data"
    }
   ],
   "source": [
    "sns.scatterplot(x1['x1'],x1['x2'])"
   ]
  },
  {
   "cell_type": "code",
   "execution_count": 25,
   "metadata": {},
   "outputs": [
    {
     "data": {
      "text/plain": [
       "<AxesSubplot:xlabel='x1', ylabel='count'>"
      ]
     },
     "execution_count": 25,
     "metadata": {},
     "output_type": "execute_result"
    },
    {
     "data": {
      "image/png": "[encoded data removed]",
      "text/plain": [
       "<Figure size 432x288 with 1 Axes>"
      ]
     },
     "metadata": {
      "needs_background": "light"
     },
     "output_type": "display_data"
    }
   ],
   "source": [
    "sns.countplot('x1',data=x1)"
   ]
  },
  {
   "cell_type": "code",
   "execution_count": 26,
   "metadata": {},
   "outputs": [
    {
     "data": {
      "text/plain": [
       "<AxesSubplot:xlabel='x2', ylabel='count'>"
      ]
     },
     "execution_count": 26,
     "metadata": {},
     "output_type": "execute_result"
    },
    {
     "data": {
      "image/png": "[encoded data removed]",
      "text/plain": [
       "<Figure size 432x288 with 1 Axes>"
      ]
     },
     "metadata": {
      "needs_background": "light"
     },
     "output_type": "display_data"
    }
   ],
   "source": [
    "sns.countplot('x2',data=x1)"
   ]
  },
  {
   "cell_type": "markdown",
   "metadata": {},
   "source": [
    "Missing values are treated in R using predictive mean matching technique with the help of mice imputer."
   ]
  },
  {
   "cell_type": "code",
   "execution_count": 27,
   "metadata": {},
   "outputs": [],
   "source": [
    "df = pd.read_csv('C:\\\\Users\\\\91979\\\\Desktop\\\\pga15\\\\Dataset\\\\data1.csv')\n",
    "x = df.iloc[:,:-1]\n",
    "y = df.iloc[:,-1]"
   ]
  },
  {
   "cell_type": "markdown",
   "metadata": {},
   "source": [
    "# MODEL BUILDING"
   ]
  },
  {
   "cell_type": "code",
   "execution_count": 28,
   "metadata": {},
   "outputs": [
    {
     "name": "stdout",
     "output_type": "stream",
     "text": [
      "\n",
      "    Model Build Classifier     : Logistic Regression\n",
      "    Independent Variable       : y\n",
      "    Train-Test split Ratio     : 0.3\n",
      "    Training set ID            : (1558, 2)\n",
      "    Testing set ID             : (669, 2)\n",
      "    Training set D             : (1558,)\n",
      "    Testing set D              : (669,)\n",
      "    Summary Report             : \n",
      "\n",
      "                  precision    recall  f1-score   support\n",
      "\n",
      "           0       0.48      0.53      0.50       331\n",
      "           1       0.49      0.44      0.47       338\n",
      "\n",
      "    accuracy                           0.49       669\n",
      "   macro avg       0.49      0.49      0.49       669\n",
      "weighted avg       0.49      0.49      0.48       669\n",
      "\n",
      "    Confusion Matrix           : \n",
      "\n",
      "    [[175 156]\n",
      " [188 150]]\n",
      "    cohen's kappa              : -0.027484596839003617\n",
      "    Cross Validation Accuracy  : 0.4865136476426799\n",
      "    \n",
      "No Skill: ROC AUC=0.500\n",
      "Logistic: ROC AUC=0.468\n"
     ]
    },
    {
     "data": {
      "image/png": "[encoded data removed]",
      "text/plain": [
       "<Figure size 432x288 with 1 Axes>"
      ]
     },
     "metadata": {
      "needs_background": "light"
     },
     "output_type": "display_data"
    }
   ],
   "source": [
    "def model_LR():\n",
    "    clf = LogisticRegression(solver='sag',max_iter=1000)\n",
    "    xtrain, xtest, ytrain, ytest = train_test_split(x, y, test_size=0.3, random_state=42)\n",
    "    clf.fit(xtrain,ytrain)\n",
    "    pred = clf.predict(xtest)\n",
    "    cv_clf = cross_val_score(clf,xtrain,ytrain,cv=10)\n",
    "    \n",
    "    print(f'''\n",
    "    Model Build Classifier     : Logistic Regression\n",
    "    Independent Variable       : {df.iloc[:,-1].name}\n",
    "    Train-Test split Ratio     : 0.3\n",
    "    Training set ID            : {xtrain.shape}\n",
    "    Testing set ID             : {xtest.shape}\n",
    "    Training set D             : {ytrain.shape}\n",
    "    Testing set D              : {ytest.shape}\n",
    "    Summary Report             : \\n\n",
    "    {classification_report(pred,ytest)}\n",
    "    Confusion Matrix           : \\n\n",
    "    {confusion_matrix(pred,ytest)}\n",
    "    cohen's kappa              : {cohen_kappa_score(pred,ytest)}\n",
    "    Cross Validation Accuracy  : {cv_clf.mean()}\n",
    "    ''')\n",
    "    ns_probs = [0 for _ in range(len(ytest))]\n",
    "    clf_probs = clf.predict_proba(xtest)\n",
    "    clf_probs = clf_probs[:, 1]\n",
    "    # calculate scores\n",
    "    ns_auc = roc_auc_score(ytest, ns_probs)\n",
    "    clf_auc = roc_auc_score(ytest, clf_probs)\n",
    "    # summarize scores\n",
    "    print('No Skill: ROC AUC=%.3f' % (ns_auc))\n",
    "    print('Logistic: ROC AUC=%.3f' % (clf_auc))\n",
    "    ns_fpr, ns_tpr, _ = roc_curve(ytest, ns_probs)\n",
    "    clf_fpr, clf_tpr, _ = roc_curve(ytest, clf_probs)\n",
    "    plt.plot(ns_fpr, ns_tpr, linestyle='--', label='No Skill')\n",
    "    plt.plot(clf_fpr, clf_tpr, marker='.', label='Logistic')\n",
    "    plt.xlabel('False Positive Rate')\n",
    "    plt.ylabel('True Positive Rate')\n",
    "    plt.legend()\n",
    "    plt.show()\n",
    "    \n",
    "model_LR()"
   ]
  },
  {
   "cell_type": "code",
   "execution_count": 29,
   "metadata": {},
   "outputs": [
    {
     "name": "stdout",
     "output_type": "stream",
     "text": [
      "\n",
      "    Model Build Classifier     : KNN\n",
      "    Independent Variable       : y\n",
      "    Train-Test split Ratio     : 0.3\n",
      "    Training set ID            : (1558, 2)\n",
      "    Testing set ID             : (669, 2)\n",
      "    Training set D             : (1558,)\n",
      "    Testing set D              : (669,)\n",
      "    Summary Report             : \n",
      "\n",
      "                  precision    recall  f1-score   support\n",
      "\n",
      "           0       0.97      0.97      0.97       362\n",
      "           1       0.96      0.96      0.96       307\n",
      "\n",
      "    accuracy                           0.97       669\n",
      "   macro avg       0.97      0.97      0.97       669\n",
      "weighted avg       0.97      0.97      0.97       669\n",
      "\n",
      "    Confusion Matrix           : \n",
      "\n",
      "    [[351  11]\n",
      " [ 12 295]]\n",
      "    cohen's kappa              : 0.9307556263584938\n",
      "    Cross Validation Accuracy  : 0.9357899090157155\n",
      "    \n",
      "No Skill: ROC AUC=0.500\n",
      "Logistic: ROC AUC=0.987\n"
     ]
    },
    {
     "data": {
      "image/png": "[encoded data removed]",
      "text/plain": [
       "<Figure size 432x288 with 1 Axes>"
      ]
     },
     "metadata": {
      "needs_background": "light"
     },
     "output_type": "display_data"
    }
   ],
   "source": [
    "def model_KNN():\n",
    "    clf = KNeighborsClassifier()\n",
    "    xtrain, xtest, ytrain, ytest = train_test_split(x, y, test_size=0.3, random_state=42)\n",
    "    clf.fit(xtrain,ytrain)\n",
    "    pred = clf.predict(xtest)\n",
    "    cv_clf = cross_val_score(clf,xtrain,ytrain,cv=10)\n",
    "    \n",
    "    print(f'''\n",
    "    Model Build Classifier     : KNN\n",
    "    Independent Variable       : {df.iloc[:,-1].name}\n",
    "    Train-Test split Ratio     : 0.3\n",
    "    Training set ID            : {xtrain.shape}\n",
    "    Testing set ID             : {xtest.shape}\n",
    "    Training set D             : {ytrain.shape}\n",
    "    Testing set D              : {ytest.shape}\n",
    "    Summary Report             : \\n\n",
    "    {classification_report(pred,ytest)}\n",
    "    Confusion Matrix           : \\n\n",
    "    {confusion_matrix(pred,ytest)}\n",
    "    cohen's kappa              : {cohen_kappa_score(pred,ytest)}\n",
    "    Cross Validation Accuracy  : {cv_clf.mean()}\n",
    "    ''')\n",
    "    ns_probs = [0 for _ in range(len(ytest))]\n",
    "    clf_probs = clf.predict_proba(xtest)\n",
    "    clf_probs = clf_probs[:, 1]\n",
    "    # calculate scores\n",
    "    ns_auc = roc_auc_score(ytest, ns_probs)\n",
    "    clf_auc = roc_auc_score(ytest, clf_probs)\n",
    "    # summarize scores\n",
    "    print('No Skill: ROC AUC=%.3f' % (ns_auc))\n",
    "    print('Logistic: ROC AUC=%.3f' % (clf_auc))\n",
    "    ns_fpr, ns_tpr, _ = roc_curve(ytest, ns_probs)\n",
    "    clf_fpr, clf_tpr, _ = roc_curve(ytest, clf_probs)\n",
    "    plt.plot(ns_fpr, ns_tpr, linestyle='--', label='No Skill')\n",
    "    plt.plot(clf_fpr, clf_tpr, marker='.', label='KNN')\n",
    "    plt.xlabel('False Positive Rate')\n",
    "    plt.ylabel('True Positive Rate')\n",
    "    plt.legend()\n",
    "    plt.show()\n",
    "    \n",
    "model_KNN()"
   ]
  },
  {
   "cell_type": "code",
   "execution_count": 30,
   "metadata": {},
   "outputs": [
    {
     "name": "stdout",
     "output_type": "stream",
     "text": [
      "\n",
      "    Model Build Classifier     : SVM\n",
      "    Independent Variable       : y\n",
      "    Train-Test split Ratio     : 0.3\n",
      "    Training set ID            : (1558, 2)\n",
      "    Testing set ID             : (669, 2)\n",
      "    Training set D             : (1558,)\n",
      "    Testing set D              : (669,)\n",
      "    Summary Report             : \n",
      "\n",
      "                  precision    recall  f1-score   support\n",
      "\n",
      "           0       1.00      0.54      0.70       669\n",
      "           1       0.00      0.00      0.00         0\n",
      "\n",
      "    accuracy                           0.54       669\n",
      "   macro avg       0.50      0.27      0.35       669\n",
      "weighted avg       1.00      0.54      0.70       669\n",
      "\n",
      "    Confusion Matrix           : \n",
      "\n",
      "    [[363 306]\n",
      " [  0   0]]\n",
      "    cohen's kappa              : 0.0\n",
      "    Cross Validation Accuracy  : 0.5641852770885029\n",
      "    \n",
      "No Skill: ROC AUC=0.500\n",
      "Logistic: ROC AUC=0.571\n"
     ]
    },
    {
     "data": {
      "image/png": "[encoded data removed]",
      "text/plain": [
       "<Figure size 432x288 with 1 Axes>"
      ]
     },
     "metadata": {
      "needs_background": "light"
     },
     "output_type": "display_data"
    }
   ],
   "source": [
    "def model_SVM():\n",
    "    clf = SVC(probability=True)\n",
    "    xtrain, xtest, ytrain, ytest = train_test_split(x, y, test_size=0.3, random_state=42)\n",
    "    clf.fit(xtrain,ytrain)\n",
    "    pred = clf.predict(xtest)\n",
    "    cv_clf = cross_val_score(clf,xtrain,ytrain,cv=10)\n",
    "    \n",
    "    print(f'''\n",
    "    Model Build Classifier     : SVM\n",
    "    Independent Variable       : {df.iloc[:,-1].name}\n",
    "    Train-Test split Ratio     : 0.3\n",
    "    Training set ID            : {xtrain.shape}\n",
    "    Testing set ID             : {xtest.shape}\n",
    "    Training set D             : {ytrain.shape}\n",
    "    Testing set D              : {ytest.shape}\n",
    "    Summary Report             : \\n\n",
    "    {classification_report(pred,ytest)}\n",
    "    Confusion Matrix           : \\n\n",
    "    {confusion_matrix(pred,ytest)}\n",
    "    cohen's kappa              : {cohen_kappa_score(pred,ytest)}\n",
    "    Cross Validation Accuracy  : {cv_clf.mean()}\n",
    "    ''')\n",
    "    ns_probs = [0 for _ in range(len(ytest))]\n",
    "    clf_probs = clf.predict_proba(xtest)\n",
    "    clf_probs = clf_probs[:, 1]\n",
    "    # calculate scores\n",
    "    ns_auc = roc_auc_score(ytest, ns_probs)\n",
    "    clf_auc = roc_auc_score(ytest, clf_probs)\n",
    "    # summarize scores\n",
    "    print('No Skill: ROC AUC=%.3f' % (ns_auc))\n",
    "    print('Logistic: ROC AUC=%.3f' % (clf_auc))\n",
    "    ns_fpr, ns_tpr, _ = roc_curve(ytest, ns_probs)\n",
    "    clf_fpr, clf_tpr, _ = roc_curve(ytest, clf_probs)\n",
    "    plt.plot(ns_fpr, ns_tpr, linestyle='--', label='No Skill')\n",
    "    plt.plot(clf_fpr, clf_tpr, marker='.', label='SVM')\n",
    "    plt.xlabel('False Positive Rate')\n",
    "    plt.ylabel('True Positive Rate')\n",
    "    plt.legend()\n",
    "    plt.show()\n",
    "    \n",
    "model_SVM()"
   ]
  },
  {
   "cell_type": "code",
   "execution_count": 31,
   "metadata": {},
   "outputs": [
    {
     "name": "stdout",
     "output_type": "stream",
     "text": [
      "\n",
      "    Model Build Classifier     : Decision Tree\n",
      "    Independent Variable       : y\n",
      "    Train-Test split Ratio     : 0.3\n",
      "    Training set ID            : (1558, 2)\n",
      "    Testing set ID             : (669, 2)\n",
      "    Training set D             : (1558,)\n",
      "    Testing set D              : (669,)\n",
      "    Summary Report             : \n",
      "\n",
      "                  precision    recall  f1-score   support\n",
      "\n",
      "           0       0.94      0.96      0.95       356\n",
      "           1       0.96      0.94      0.95       313\n",
      "\n",
      "    accuracy                           0.95       669\n",
      "   macro avg       0.95      0.95      0.95       669\n",
      "weighted avg       0.95      0.95      0.95       669\n",
      "\n",
      "    Confusion Matrix           : \n",
      "\n",
      "    [[343  13]\n",
      " [ 20 293]]\n",
      "    cohen's kappa              : 0.9008020489317248\n",
      "    Cross Validation Accuracy  : 0.931306865177833\n",
      "    \n",
      "No Skill: ROC AUC=0.500\n",
      "Logistic: ROC AUC=0.951\n"
     ]
    },
    {
     "data": {
      "image/png": "[encoded data removed]",
      "text/plain": [
       "<Figure size 432x288 with 1 Axes>"
      ]
     },
     "metadata": {
      "needs_background": "light"
     },
     "output_type": "display_data"
    }
   ],
   "source": [
    "def model_DT():\n",
    "    clf = DecisionTreeClassifier()\n",
    "    xtrain, xtest, ytrain, ytest = train_test_split(x, y, test_size=0.3, random_state=42)\n",
    "    clf.fit(xtrain,ytrain)\n",
    "    pred = clf.predict(xtest)\n",
    "    cv_clf = cross_val_score(clf,xtrain,ytrain,cv=10)\n",
    "    \n",
    "    print(f'''\n",
    "    Model Build Classifier     : Decision Tree\n",
    "    Independent Variable       : {df.iloc[:,-1].name}\n",
    "    Train-Test split Ratio     : 0.3\n",
    "    Training set ID            : {xtrain.shape}\n",
    "    Testing set ID             : {xtest.shape}\n",
    "    Training set D             : {ytrain.shape}\n",
    "    Testing set D              : {ytest.shape}\n",
    "    Summary Report             : \\n\n",
    "    {classification_report(pred,ytest)}\n",
    "    Confusion Matrix           : \\n\n",
    "    {confusion_matrix(pred,ytest)}\n",
    "    cohen's kappa              : {cohen_kappa_score(pred,ytest)}\n",
    "    Cross Validation Accuracy  : {cv_clf.mean()}\n",
    "    ''')\n",
    "    ns_probs = [0 for _ in range(len(ytest))]\n",
    "    clf_probs = clf.predict_proba(xtest)\n",
    "    clf_probs = clf_probs[:, 1]\n",
    "    # calculate scores\n",
    "    ns_auc = roc_auc_score(ytest, ns_probs)\n",
    "    clf_auc = roc_auc_score(ytest, clf_probs)\n",
    "    # summarize scores\n",
    "    print('No Skill: ROC AUC=%.3f' % (ns_auc))\n",
    "    print('Logistic: ROC AUC=%.3f' % (clf_auc))\n",
    "    ns_fpr, ns_tpr, _ = roc_curve(ytest, ns_probs)\n",
    "    clf_fpr, clf_tpr, _ = roc_curve(ytest, clf_probs)\n",
    "    plt.plot(ns_fpr, ns_tpr, linestyle='--', label='No Skill')\n",
    "    plt.plot(clf_fpr, clf_tpr, marker='.', label='Decision tree')\n",
    "    plt.xlabel('False Positive Rate')\n",
    "    plt.ylabel('True Positive Rate')\n",
    "    plt.legend()\n",
    "    plt.show()\n",
    "    \n",
    "model_DT()"
   ]
  },
  {
   "cell_type": "markdown",
   "metadata": {},
   "source": [
    "Out of all the machine learning model KNN and Decision tree performs better"
   ]
  },
  {
   "cell_type": "code",
   "execution_count": null,
   "metadata": {},
   "outputs": [],
   "source": []
  },
  {
   "cell_type": "code",
   "execution_count": null,
   "metadata": {},
   "outputs": [],
   "source": []
  },
  {
   "cell_type": "code",
   "execution_count": null,
   "metadata": {},
   "outputs": [],
   "source": []
  },
  {
   "cell_type": "code",
   "execution_count": null,
   "metadata": {},
   "outputs": [],
   "source": []
  }
 ],
 "metadata": {
  "kernelspec": {
   "display_name": "Python 3",
   "language": "python",
   "name": "python3"
  },
  "language_info": {
   "codemirror_mode": {
    "name": "ipython",
    "version": 3
   },
   "file_extension": ".py",
   "mimetype": "text/x-python",
   "name": "python",
   "nbconvert_exporter": "python",
   "pygments_lexer": "ipython3",
   "version": "3.8.8"
  }
 },
 "nbformat": 4,
 "nbformat_minor": 4
}
